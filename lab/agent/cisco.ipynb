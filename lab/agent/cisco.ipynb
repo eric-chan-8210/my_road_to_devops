{
 "cells": [
  {
   "cell_type": "code",
   "execution_count": 2,
   "metadata": {},
   "outputs": [],
   "source": [
    "from connector import Net\n",
    "\n",
    "class ISO_XE(Net):\n",
    "    def __init__(self):\n",
    "        self.dev_info = {'device_type':'cisco_xe', 'host':'192.168.88.200', 'username':'admin', 'password','cisco'}\n",
    "\n",
    "\n",
    "    def get_config(self):\n",
    "        cmd = 'show run'\n",
    "        info = self.dev_conn.send_command(cmd)\n",
    "        config_info = info.split('platform console serial\\n!')[1]\n",
    "        return config_info\n",
    "\n",
    "    def get_interface(self):\n",
    "        cmd = 'show ip int brief'\n",
    "        info = self.dev_conn.send_command(cmd)\n",
    "        int_info = []\n",
    "        for line in info.split('/n')[1:]:\n",
    "            data = line.split()\n",
    "            if_name = data[0]\n",
    "            if_ip = data[1]\n",
    "            phy_status = data[-2]\n",
    "            pro_status = data[-1]\n",
    "            int_info.append({'name':if_name, 'ip':if_ip, 'status':phy_status, 'protocol':pro_status})\n",
    "        return int_info\n",
    "    \n",
    "    def recover_interface(self, if_name):\n",
    "        self.reconnect()\n",
    "        cmd_list = [f'int {if_name}', 'shutdown', 'no shut']\n",
    "        self.dev_conn.send_config_set(cmd_list)\n",
    "\n",
    "    def get_routing(self):\n",
    "        cmd = 'show ip route'\n",
    "        info = self.dev_conn.send_command(cmd)\n",
    "        route_info = [line for line in info.split('\\n') if '/' in line]\n",
    "        return route_info\n",
    "        \n",
    "    def post_route(self, dst_n, mask, next_hop):\n",
    "        cmd_list = [f'ip route {dst_n} {mask} {next_hop}']\n",
    "        self.dev_conn.send_config_set(cmd_list)\n",
    "\n",
    "    def monitor(self):\n",
    "        cmd = 'show process cpu'\n",
    "        info = self.dev_conn.send_command(cmd)\n",
    "        line = info.split('PID Runtime')[0].split('five seconds:')[1]\n",
    "        line_list = line.split('%')\n",
    "        cpu1_5s = line_list[0][-1]\n",
    "        cpu2_5s = line_list[1][-1]\n",
    "        cpu_1m = line_list[2][-1]\n",
    "        cpu_5m = line_list[3][-1]\n",
    "        cpu_info = {'cpu1 5s':cpu1_5s, 'cpu2 5s':cpu2_5s, 'cpu 1m':cpu_1m, 'cpu 5m':cpu_5m}\n",
    "        return cpu_info\n",
    "        \n",
    "\n",
    "        \n",
    "        "
   ]
  },
  {
   "cell_type": "code",
   "execution_count": 76,
   "metadata": {},
   "outputs": [
    {
     "name": "stdout",
     "output_type": "stream",
     "text": [
      "{'cpu1 5s': '0', 'cpu2 5s': '0', 'cpu 1m': '0', 'cpu 5m': '0'}\n"
     ]
    }
   ],
   "source": [
    "from netmiko import ConnectHandler\n",
    "devinfo = {'device_type':'cisco_xe', 'host':'192.168.88.200', 'username':'admin', 'password':'cisco'}\n",
    "devconn = ConnectHandler(**devinfo)\n",
    "cmd = 'show process cpu'\n",
    "info = devconn.send_command(cmd)\n",
    "line = info.split('PID Runtime')[0].split('five seconds:')[1]\n",
    "line_list = line.split('%')\n",
    "cpu1_5s = line_list[0][-1]\n",
    "cpu2_5s = line_list[1][-1]\n",
    "cpu_1m = line_list[2][-1]\n",
    "cpu_5m = line_list[3][-1]\n",
    "cpu_info = {'cpu1 5s':cpu1_5s, 'cpu2 5s':cpu2_5s, 'cpu 1m':cpu_1m, 'cpu 5m':cpu_5m}\n",
    "print(cpu_info)\n",
    "\n",
    "\n",
    "\n"
   ]
  }
 ],
 "metadata": {
  "kernelspec": {
   "display_name": "Python 3",
   "language": "python",
   "name": "python3"
  },
  "language_info": {
   "codemirror_mode": {
    "name": "ipython",
    "version": 3
   },
   "file_extension": ".py",
   "mimetype": "text/x-python",
   "name": "python",
   "nbconvert_exporter": "python",
   "pygments_lexer": "ipython3",
   "version": "3.12.0"
  }
 },
 "nbformat": 4,
 "nbformat_minor": 2
}
